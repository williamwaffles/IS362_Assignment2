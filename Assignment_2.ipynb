{
 "cells": [
  {
   "cell_type": "markdown",
   "metadata": {},
   "source": [
    "# **zip() function:**\n",
    "## The zip() function returns a zip object, which is an iterator of tuples where the first item \n",
    "## in each passed iterator is paired together, and then the second item in each passed iterator are paired together etc.\n",
    "## Reference: https://www.w3schools.com/python/ref_func_zip.asp\n",
    "\n",
    "### two tuples \n",
    "a = (1, 2, 3, 4, 5, 6, 7, 8)\n",
    "b = (100, 200, 300, 400, 500, 600, 700, 800)\n",
    "\n",
    "### zip() on tuples a,b into a list\n",
    "zip_list = list(zip(a, b))\n",
    "\n",
    "### zip() on tuples a,b into a tuple\n",
    "zip_tuple = tuple(zip(a, b))\n",
    "\n",
    "### concatenate tuples a,b\n",
    "concat = a + b\n",
    "\n",
    "### output examples:\n",
    "\n",
    "print(zip_list) <br>\n",
    "print(zip_tuple) <br>\n",
    "print(concat) <br>"
   ]
  },
  {
   "cell_type": "markdown",
   "metadata": {},
   "source": []
  }
 ],
 "metadata": {
  "kernelspec": {
   "display_name": "Python 3",
   "language": "python",
   "name": "python3"
  },
  "language_info": {
   "codemirror_mode": {
    "name": "ipython",
    "version": 3
   },
   "file_extension": ".py",
   "mimetype": "text/x-python",
   "name": "python",
   "nbconvert_exporter": "python",
   "pygments_lexer": "ipython3",
   "version": "3.7.6"
  }
 },
 "nbformat": 4,
 "nbformat_minor": 4
}
